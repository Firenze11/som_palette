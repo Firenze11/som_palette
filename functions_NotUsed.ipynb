{
 "cells": [
  {
   "cell_type": "code",
   "execution_count": 199,
   "metadata": {
    "collapsed": false
   },
   "outputs": [],
   "source": [
    "import classes\n",
    "import random\n",
    "import math"
   ]
  },
  {
   "cell_type": "code",
   "execution_count": 200,
   "metadata": {
    "collapsed": true
   },
   "outputs": [],
   "source": [
    "def initialize_som(w, h):\n",
    "    out_map = []\n",
    "    for i in range(h):\n",
    "        out_map.append([])\n",
    "        for j in range(w):\n",
    "            temp_col =classes.Node((random.randint(0,255), random.randint(0,255), random.randint(0,255)), j, i)\n",
    "            out_map[i].append(temp_col)\n",
    "    return out_map"
   ]
  },
  {
   "cell_type": "code",
   "execution_count": 201,
   "metadata": {
    "collapsed": true
   },
   "outputs": [],
   "source": [
    "def neighborhood(wn,cn,t):\n",
    "    return math.exp(-node_distance(wn,cn) * node_distance(wn,cn)/ (2 * radius(t) * radius(t)))"
   ]
  },
  {
   "cell_type": "code",
   "execution_count": 202,
   "metadata": {
    "collapsed": true
   },
   "outputs": [],
   "source": [
    "def vec_distance(pv, n):    #pv: pixel vector (to be called with get_vector) , n: node\n",
    "    return math.sqrt(math.pow(pv[0] - n.v[0], 2) + math.pow(pv[1] - n.v[1], 2) + math.pow(pv[2] - n.v[2], 2))"
   ]
  },
  {
   "cell_type": "code",
   "execution_count": 203,
   "metadata": {
    "collapsed": false
   },
   "outputs": [],
   "source": [
    "def winner_node(pv, som):\n",
    "    d_min = math.sqrt(195075)\n",
    "    for column in som:\n",
    "        for n in column:\n",
    "            if vec_distance(pv, n) < d_min:\n",
    "                winner = n\n",
    "                d_min = vec_distance(pv, n)\n",
    "    return winner"
   ]
  },
  {
   "cell_type": "code",
   "execution_count": 204,
   "metadata": {
    "collapsed": true
   },
   "outputs": [],
   "source": [
    "def node_distance(n0, n1):\n",
    "    return math.sqrt(math.pow(n0.x - n1.x, 2) + math.pow(n0.y - n1.y, 2))"
   ]
  },
  {
   "cell_type": "code",
   "execution_count": 205,
   "metadata": {
    "collapsed": false
   },
   "outputs": [],
   "source": [
    "def update_node(pv,wn,cn,t,w,h,N):\n",
    "    _a = a(t,w,h,N)\n",
    "    _n = neighborhood(wn,cn,t)\n",
    "    v = ()\n",
    "    for i in xrange(len(pv)):\n",
    "        new_dim = cn.get_v()[i] + a * n * (pv[i]-cn.get_v()[i])\n",
    "        v = v + (new_dim,)\n",
    "    cn.set_v(v)"
   ]
  },
  {
   "cell_type": "code",
   "execution_count": 206,
   "metadata": {
    "collapsed": false
   },
   "outputs": [],
   "source": [
    "def update_som(som,pv,wn,t,w,h,N):\n",
    "    for column in som:\n",
    "        for cn in column:\n",
    "            update_node(pv, wn,cn,t,w,h,N)"
   ]
  },
  {
   "cell_type": "code",
   "execution_count": 207,
   "metadata": {
    "collapsed": true
   },
   "outputs": [],
   "source": [
    "def radius(t):\n",
    "    return r0 * math.exp(-t / (N / math.log(r0) ))"
   ]
  },
  {
   "cell_type": "code",
   "execution_count": 208,
   "metadata": {
    "collapsed": true
   },
   "outputs": [],
   "source": [
    "def a(t,w,h,N):\n",
    "    return (w+h)/4 * math.exp(-t / N)"
   ]
  },
  {
   "cell_type": "code",
   "execution_count": 209,
   "metadata": {
    "collapsed": false
   },
   "outputs": [],
   "source": [
    "s_o_m = initialize_som(5,6)"
   ]
  },
  {
   "cell_type": "code",
   "execution_count": 210,
   "metadata": {
    "collapsed": false
   },
   "outputs": [
    {
     "name": "stdout",
     "output_type": "stream",
     "text": [
      "[[<classes.Node instance at 0x7fd2eee51cf8>, <classes.Node instance at 0x7fd2eee51d40>, <classes.Node instance at 0x7fd2eee51d88>, <classes.Node instance at 0x7fd2eee51dd0>, <classes.Node instance at 0x7fd2eee51e18>], [<classes.Node instance at 0x7fd2eee51e60>, <classes.Node instance at 0x7fd2eee51ea8>, <classes.Node instance at 0x7fd2eee51ef0>, <classes.Node instance at 0x7fd2eee51f38>, <classes.Node instance at 0x7fd2eee51f80>], [<classes.Node instance at 0x7fd2eee51fc8>, <classes.Node instance at 0x7fd2eee4f050>, <classes.Node instance at 0x7fd2eee4f3f8>, <classes.Node instance at 0x7fd2eee4fa28>, <classes.Node instance at 0x7fd2eee4f170>], [<classes.Node instance at 0x7fd2eee4f290>, <classes.Node instance at 0x7fd2eee4f1b8>, <classes.Node instance at 0x7fd2eee4f5f0>, <classes.Node instance at 0x7fd2eee4f680>, <classes.Node instance at 0x7fd2eee4f638>], [<classes.Node instance at 0x7fd2eee4f0e0>, <classes.Node instance at 0x7fd2eee4f440>, <classes.Node instance at 0x7fd2eee4f320>, <classes.Node instance at 0x7fd2eee4f518>, <classes.Node instance at 0x7fd2eee4f560>], [<classes.Node instance at 0x7fd2eee4f758>, <classes.Node instance at 0x7fd2eee4f7a0>, <classes.Node instance at 0x7fd2eee4f7e8>, <classes.Node instance at 0x7fd2eee4f830>, <classes.Node instance at 0x7fd2eee4f878>]]\n"
     ]
    }
   ],
   "source": [
    "print s_o_m"
   ]
  },
  {
   "cell_type": "code",
   "execution_count": 211,
   "metadata": {
    "collapsed": false
   },
   "outputs": [
    {
     "name": "stdout",
     "output_type": "stream",
     "text": [
      "(259, 194)\n"
     ]
    }
   ],
   "source": [
    "image = classes.Dataset(\"cat.jpeg\")"
   ]
  },
  {
   "cell_type": "code",
   "execution_count": 212,
   "metadata": {
    "collapsed": false
   },
   "outputs": [],
   "source": [
    "def train (data,som,w,h):\n",
    "    N = 100;\n",
    "    for t in xrange(N):\n",
    "        for i in xrange(len(data)):\n",
    "            pixel_v = data.get_vector(i)\n",
    "            win_n = winner_node(pixel_v,som)\n",
    "            update_som(som,pixel_v,win_n,t,w,h,N)\n",
    "        "
   ]
  },
  {
   "cell_type": "code",
   "execution_count": 142,
   "metadata": {
    "collapsed": false
   },
   "outputs": [
    {
     "ename": "AttributeError",
     "evalue": "Node instance has no attribute 'set_vector'",
     "output_type": "error",
     "traceback": [
      "\u001b[1;31m---------------------------------------------------------------------------\u001b[0m",
      "\u001b[1;31mAttributeError\u001b[0m                            Traceback (most recent call last)",
      "\u001b[1;32m<ipython-input-142-59f898f54444>\u001b[0m in \u001b[0;36m<module>\u001b[1;34m()\u001b[0m\n\u001b[1;32m----> 1\u001b[1;33m \u001b[0mtrain\u001b[0m\u001b[1;33m(\u001b[0m\u001b[0mimage\u001b[0m\u001b[1;33m,\u001b[0m\u001b[0ms_o_m\u001b[0m\u001b[1;33m)\u001b[0m\u001b[1;33m\u001b[0m\u001b[0m\n\u001b[0m",
      "\u001b[1;32m<ipython-input-141-4f75620346b6>\u001b[0m in \u001b[0;36mtrain\u001b[1;34m(data, som)\u001b[0m\n\u001b[0;32m      5\u001b[0m             \u001b[0mpixel_v\u001b[0m \u001b[1;33m=\u001b[0m \u001b[0mdata\u001b[0m\u001b[1;33m.\u001b[0m\u001b[0mget_vector\u001b[0m\u001b[1;33m(\u001b[0m\u001b[0mi\u001b[0m\u001b[1;33m)\u001b[0m\u001b[1;33m\u001b[0m\u001b[0m\n\u001b[0;32m      6\u001b[0m             \u001b[0mwin_n\u001b[0m \u001b[1;33m=\u001b[0m \u001b[0mwinner_node\u001b[0m\u001b[1;33m(\u001b[0m\u001b[0mpixel_v\u001b[0m\u001b[1;33m,\u001b[0m\u001b[0msom\u001b[0m\u001b[1;33m)\u001b[0m\u001b[1;33m\u001b[0m\u001b[0m\n\u001b[1;32m----> 7\u001b[1;33m             \u001b[0mupdate_som\u001b[0m\u001b[1;33m(\u001b[0m\u001b[0msom\u001b[0m\u001b[1;33m,\u001b[0m\u001b[0mpixel_v\u001b[0m\u001b[1;33m,\u001b[0m\u001b[0mwin_n\u001b[0m\u001b[1;33m,\u001b[0m\u001b[0mt\u001b[0m\u001b[1;33m)\u001b[0m\u001b[1;33m\u001b[0m\u001b[0m\n\u001b[0m\u001b[0;32m      8\u001b[0m \u001b[1;33m\u001b[0m\u001b[0m\n",
      "\u001b[1;32m<ipython-input-135-6ae653f1bd4b>\u001b[0m in \u001b[0;36mupdate_som\u001b[1;34m(som, pv, wn, t)\u001b[0m\n\u001b[0;32m      2\u001b[0m     \u001b[1;32mfor\u001b[0m \u001b[0mcolumn\u001b[0m \u001b[1;32min\u001b[0m \u001b[0msom\u001b[0m\u001b[1;33m:\u001b[0m\u001b[1;33m\u001b[0m\u001b[0m\n\u001b[0;32m      3\u001b[0m         \u001b[1;32mfor\u001b[0m \u001b[0mcn\u001b[0m \u001b[1;32min\u001b[0m \u001b[0mcolumn\u001b[0m\u001b[1;33m:\u001b[0m\u001b[1;33m\u001b[0m\u001b[0m\n\u001b[1;32m----> 4\u001b[1;33m             \u001b[0mupdate_node\u001b[0m\u001b[1;33m(\u001b[0m\u001b[0mpv\u001b[0m\u001b[1;33m,\u001b[0m \u001b[0mwn\u001b[0m\u001b[1;33m,\u001b[0m\u001b[0mcn\u001b[0m\u001b[1;33m,\u001b[0m\u001b[0mt\u001b[0m\u001b[1;33m)\u001b[0m\u001b[1;33m\u001b[0m\u001b[0m\n\u001b[0m",
      "\u001b[1;32m<ipython-input-134-76187e50b99c>\u001b[0m in \u001b[0;36mupdate_node\u001b[1;34m(pv, wn, cn, t)\u001b[0m\n\u001b[0;32m      1\u001b[0m \u001b[1;32mdef\u001b[0m \u001b[0mupdate_node\u001b[0m\u001b[1;33m(\u001b[0m\u001b[0mpv\u001b[0m\u001b[1;33m,\u001b[0m\u001b[0mwn\u001b[0m\u001b[1;33m,\u001b[0m\u001b[0mcn\u001b[0m\u001b[1;33m,\u001b[0m\u001b[0mt\u001b[0m\u001b[1;33m)\u001b[0m\u001b[1;33m:\u001b[0m\u001b[1;33m\u001b[0m\u001b[0m\n\u001b[1;32m----> 2\u001b[1;33m     \u001b[0mcn\u001b[0m\u001b[1;33m.\u001b[0m\u001b[0mset_vector\u001b[0m\u001b[1;33m(\u001b[0m \u001b[0mcn\u001b[0m\u001b[1;33m.\u001b[0m\u001b[0mget_vector\u001b[0m\u001b[1;33m(\u001b[0m\u001b[1;33m)\u001b[0m \u001b[1;33m+\u001b[0m \u001b[0ma\u001b[0m\u001b[1;33m(\u001b[0m\u001b[0mt\u001b[0m\u001b[1;33m)\u001b[0m \u001b[1;33m*\u001b[0m \u001b[0mneighborhood\u001b[0m\u001b[1;33m(\u001b[0m\u001b[0mwn\u001b[0m\u001b[1;33m,\u001b[0m\u001b[0mcn\u001b[0m\u001b[1;33m,\u001b[0m\u001b[0mt\u001b[0m\u001b[1;33m)\u001b[0m \u001b[1;33m*\u001b[0m \u001b[1;33m(\u001b[0m\u001b[0mpv\u001b[0m \u001b[1;33m-\u001b[0m \u001b[0mcn\u001b[0m\u001b[1;33m.\u001b[0m\u001b[0mget_vector\u001b[0m\u001b[1;33m(\u001b[0m\u001b[1;33m)\u001b[0m\u001b[1;33m)\u001b[0m \u001b[1;33m)\u001b[0m\u001b[1;33m\u001b[0m\u001b[0m\n\u001b[0m",
      "\u001b[1;31mAttributeError\u001b[0m: Node instance has no attribute 'set_vector'"
     ]
    }
   ],
   "source": [
    "train(image,s_o_m,5,6)"
   ]
  },
  {
   "cell_type": "code",
   "execution_count": null,
   "metadata": {
    "collapsed": true
   },
   "outputs": [],
   "source": []
  }
 ],
 "metadata": {
  "kernelspec": {
   "display_name": "Python 2",
   "language": "python",
   "name": "python2"
  },
  "language_info": {
   "codemirror_mode": {
    "name": "ipython",
    "version": 2
   },
   "file_extension": ".py",
   "mimetype": "text/x-python",
   "name": "python",
   "nbconvert_exporter": "python",
   "pygments_lexer": "ipython2",
   "version": "2.7.6"
  }
 },
 "nbformat": 4,
 "nbformat_minor": 0
}
