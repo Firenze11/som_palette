{
 "cells": [
  {
   "cell_type": "code",
   "execution_count": 3,
   "metadata": {
    "collapsed": false
   },
   "outputs": [
    {
     "name": "stdout",
     "output_type": "stream",
     "text": [
      "(259, 194)\n",
      "((238, 191, 137), (4, 0))\n",
      "(238, 191, 137)\n",
      "(4, 0)\n"
     ]
    }
   ],
   "source": [
    "from PIL import Image\n",
    "\n",
    "class Dataset:\n",
    "    def __init__ (self, filename):\n",
    "        im = Image.open(filename,'r') #Can be many different formats.\n",
    "        pix = im.load()\n",
    "        print im.size #Get the width and hight of the image for iterating over\n",
    "        im.show()\n",
    "        \n",
    "        self._vectors = []\n",
    "        self._labels = []\n",
    "        \n",
    "        for j in xrange(im.size[1]):\n",
    "            for i in xrange(im.size[0]):\n",
    "                self._vectors.append(pix[i,j])\n",
    "                self._labels.append((i,j))\n",
    "\n",
    "    def __len__ (self):\n",
    "        return len (self._vectors)\n",
    "    \n",
    "    def __str__ (self):\n",
    "        return str (self._vectors)\n",
    "\n",
    "    def __getitem__ (self, key):\n",
    "        return (self._vectors[key], self._labels[key])\n",
    "\n",
    "    def vectors (self):\n",
    "        return self._vectors\n",
    "    \n",
    "    def labels (self):\n",
    "        return self._labels\n",
    "    \n",
    "    def get_vector (self, point):\n",
    "        return self._vectors[point]\n",
    "    \n",
    "    def get_label (self, point):\n",
    "        return self._labels[point]\n",
    "\n",
    "a = Dataset(\"cat.jpeg\")\n",
    "print a[4]\n",
    "print a.get_vector(4)\n",
    "print a.get_label(4)\n",
    "\n",
    "\n",
    "\n",
    "class Node:\n",
    "    def __init__ (self, _v, _x, _y):\n",
    "        self.v = _v\n",
    "        self.x = _x\n",
    "        self.y = _y\n",
    "    \n",
    "    def __str__ (self):\n",
    "        return str (self.v)\n",
    "    \n",
    "    def set_v (self, v):\n",
    "        self._v = v\n",
    "        \n",
    "    def get_v (self):\n",
    "        return self._v\n",
    "        \n",
    "    def set_pos (self, pos):\n",
    "        self._x = pos[0]\n",
    "        self._y = pos[1]\n",
    "        \n",
    "    def get_pos (self):\n",
    "        return (self._x, self._y)\n",
    "\n",
    "'''    \n",
    "class SOM:\n",
    "    def __init__ (self, w, h)\n",
    "        self.node = []\n",
    "        for i in range(h):\n",
    "            self.node.append([])\n",
    "            for j in range(w):\n",
    "                temp_node = new Node((random.randint(0,255), random.randint(0,255), random.randint(0,255)), j, i)\n",
    "                self.node[i].append(temp_node)\n",
    "                \n",
    "    \n",
    "    def __len__ (self):\n",
    "        return (len (self.node), len (self.node[0])\n",
    "    \n",
    "    def __str__ (self):\n",
    "        return str (\"som\")\n",
    "\n",
    "    def __getitem__ (self, i, j):\n",
    "        return (self.node[i][j])\n",
    "'''"
   ]
  },
  {
   "cell_type": "code",
   "execution_count": null,
   "metadata": {
    "collapsed": true
   },
   "outputs": [],
   "source": []
  }
 ],
 "metadata": {
  "kernelspec": {
   "display_name": "Python 2",
   "language": "python",
   "name": "python2"
  },
  "language_info": {
   "codemirror_mode": {
    "name": "ipython",
    "version": 2
   },
   "file_extension": ".py",
   "mimetype": "text/x-python",
   "name": "python",
   "nbconvert_exporter": "python",
   "pygments_lexer": "ipython2",
   "version": "2.7.6"
  }
 },
 "nbformat": 4,
 "nbformat_minor": 0
}
