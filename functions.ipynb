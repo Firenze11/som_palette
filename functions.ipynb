{
 "cells": [
  {
   "cell_type": "code",
   "execution_count": 2,
   "metadata": {
    "collapsed": false
   },
   "outputs": [],
   "source": [
    "#import classes"
   ]
  },
  {
   "cell_type": "code",
   "execution_count": 3,
   "metadata": {
    "collapsed": true
   },
   "outputs": [],
   "source": [
    "def initialize_som(w, h):\n",
    "    out_map = []\n",
    "    for i in range(h):\n",
    "        out_map.append([])\n",
    "        for j in range(w):\n",
    "            temp_col = classes.Node((random.randint(0,255), random.randint(0,255), random.randint(0,255)), j, i)\n",
    "            out_map[i].append(temp_col)\n",
    "    return out_map"
   ]
  },
  {
   "cell_type": "code",
   "execution_count": 4,
   "metadata": {
    "collapsed": true
   },
   "outputs": [],
   "source": [
    "def neighborhood():\n",
    "    return math.exp(-vec_dist*vec_dist/ (2 * r * r))"
   ]
  },
  {
   "cell_type": "code",
   "execution_count": 5,
   "metadata": {
    "collapsed": true
   },
   "outputs": [],
   "source": [
    "def vec_distance(pv, n):    #pv: pixel vector (to be called with get_vector) , n: node\n",
    "    return math.sqrt(math.pow(pv[0] - n.v[0], 2) + math.pow(pv[1] - n.v[1], 2) + math.pow(pv[2] - n.v[2], 2))"
   ]
  },
  {
   "cell_type": "code",
   "execution_count": 6,
   "metadata": {
    "collapsed": false
   },
   "outputs": [],
   "source": [
    "def winner_vec(px, som):\n",
    "    d_min = math.sqrt(195075)\n",
    "    for column in som:\n",
    "        for n in column:\n",
    "            if vec_distance(px, n) < d_min:\n",
    "                winner = n\n",
    "                d_min = vec_distance(px, n)\n",
    "    return winner"
   ]
  },
  {
   "cell_type": "code",
   "execution_count": 7,
   "metadata": {
    "collapsed": true
   },
   "outputs": [],
   "source": [
    "def node_distance(n0, n1):\n",
    "    return math.sqrt(math.pow(n0.x - n1.x, 2) + math.pow(n0.y - n1.y, 2))"
   ]
  },
  {
   "cell_type": "code",
   "execution_count": 8,
   "metadata": {
    "collapsed": false
   },
   "outputs": [],
   "source": [
    "def update_node(pv, n):\n",
    "    n = n.v + a(t) * neighborhood() * (pv - n.v)"
   ]
  },
  {
   "cell_type": "code",
   "execution_count": 9,
   "metadata": {
    "collapsed": false
   },
   "outputs": [],
   "source": [
    "def update_som(pv):\n",
    "    for column in som:\n",
    "        for n in column:\n",
    "            update_node(pv, n)"
   ]
  },
  {
   "cell_type": "code",
   "execution_count": 10,
   "metadata": {
    "collapsed": true
   },
   "outputs": [],
   "source": [
    "def radius(t):\n",
    "    return r0 * math.exp(-t / (N / math.log(r0) ))"
   ]
  },
  {
   "cell_type": "code",
   "execution_count": 11,
   "metadata": {
    "collapsed": true
   },
   "outputs": [],
   "source": [
    "def a(t):\n",
    "    return a0 * math.exp(-t / N)"
   ]
  },
  {
   "cell_type": "code",
   "execution_count": null,
   "metadata": {
    "collapsed": true
   },
   "outputs": [],
   "source": []
  }
 ],
 "metadata": {
  "kernelspec": {
   "display_name": "Python 2",
   "language": "python",
   "name": "python2"
  },
  "language_info": {
   "codemirror_mode": {
    "name": "ipython",
    "version": 2
   },
   "file_extension": ".py",
   "mimetype": "text/x-python",
   "name": "python",
   "nbconvert_exporter": "python",
   "pygments_lexer": "ipython2",
   "version": "2.7.5"
  }
 },
 "nbformat": 4,
 "nbformat_minor": 0
}
