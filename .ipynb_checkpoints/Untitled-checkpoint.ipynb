{
 "cells": [
  {
   "cell_type": "code",
   "execution_count": 23,
   "metadata": {
    "collapsed": false
   },
   "outputs": [
    {
     "name": "stdout",
     "output_type": "stream",
     "text": [
      "(259, 194)\n",
      "((238, 191, 137), (4, 0))\n",
      "(238, 191, 137)\n",
      "(4, 0)\n"
     ]
    }
   ],
   "source": [
    "from PIL import Image\n",
    "\n",
    "class Dataset:\n",
    "    def __init__ (self, filename):\n",
    "        im = Image.open(filename,'r') #Can be many different formats.\n",
    "        pix = im.load()\n",
    "        print im.size #Get the width and hight of the image for iterating over\n",
    "        im.show()\n",
    "        \n",
    "        self._data = []\n",
    "        self._labels = []\n",
    "        \n",
    "        for j in xrange(im.size[1]):\n",
    "            for i in xrange(im.size[0]):\n",
    "                self._data.append(pix[i,j])\n",
    "                self._labels.append((i,j))\n",
    "\n",
    "    def __len__ (self):\n",
    "        return len (self._data)\n",
    "    \n",
    "    def __str__ (self):\n",
    "        return str (self._data)\n",
    "\n",
    "    def __getitem__ (self, key):\n",
    "        return (self._data[key], self._labels[key])\n",
    "\n",
    "    def data (self):\n",
    "        return self._data\n",
    "    \n",
    "    def labels (self):\n",
    "        return self._labels\n",
    "    \n",
    "    def get_data (self, point):\n",
    "        return self._data[point]\n",
    "    \n",
    "    def get_label (self, point):\n",
    "        return self._labels[point]\n",
    "\n",
    "a = Dataset(\"cat.jpeg\")\n",
    "print a[4]\n",
    "print a.get_data(4)\n",
    "print a.get_label(4)"
   ]
  },
  {
   "cell_type": "code",
   "execution_count": null,
   "metadata": {
    "collapsed": true
   },
   "outputs": [],
   "source": []
  }
 ],
 "metadata": {
  "kernelspec": {
   "display_name": "Python 2",
   "language": "python",
   "name": "python2"
  },
  "language_info": {
   "codemirror_mode": {
    "name": "ipython",
    "version": 2
   },
   "file_extension": ".py",
   "mimetype": "text/x-python",
   "name": "python",
   "nbconvert_exporter": "python",
   "pygments_lexer": "ipython2",
   "version": "2.7.6"
  }
 },
 "nbformat": 4,
 "nbformat_minor": 0
}
