{
 "cells": [
  {
   "cell_type": "code",
<<<<<<< HEAD
   "execution_count": 2,
=======
   "execution_count": null,
>>>>>>> 9d694491708101858f6a95f65d76634380153873
   "metadata": {
    "collapsed": false
   },
   "outputs": [
    {
     "name": "stdout",
     "output_type": "stream",
     "text": [
      "(259, 194)\n",
      "((238, 191, 137), (4, 0))"
     ]
    }
   ],
   "source": [
<<<<<<< HEAD
    "#import classes"
   ]
  },
  {
   "cell_type": "code",
   "execution_count": 3,
   "metadata": {
    "collapsed": true
   },
   "outputs": [],
   "source": [
=======
    "# coding: utf-8\n",
    "\n",
    "# In[199]:\n",
    "\n",
    "import classes\n",
    "import random\n",
    "import math\n",
    "\n",
    "\n",
    "# In[200]:\n",
    "\n",
>>>>>>> 9d694491708101858f6a95f65d76634380153873
    "def initialize_som(w, h):\n",
    "    out_map = []\n",
    "    for i in range(h):\n",
    "        out_map.append([])\n",
    "        for j in range(w):\n",
<<<<<<< HEAD
    "            temp_col = classes.Node((random.randint(0,255), random.randint(0,255), random.randint(0,255)), j, i)\n",
    "            out_map[i].append(temp_col)\n",
    "    return out_map"
   ]
  },
  {
   "cell_type": "code",
   "execution_count": 4,
   "metadata": {
    "collapsed": true
   },
   "outputs": [],
   "source": [
    "def neighborhood():\n",
    "    return math.exp(-vec_dist*vec_dist/ (2 * r * r))"
   ]
  },
  {
   "cell_type": "code",
   "execution_count": 5,
   "metadata": {
    "collapsed": true
   },
   "outputs": [],
   "source": [
    "def vec_distance(pv, n):    #pv: pixel vector (to be called with get_vector) , n: node\n",
    "    return math.sqrt(math.pow(pv[0] - n.v[0], 2) + math.pow(pv[1] - n.v[1], 2) + math.pow(pv[2] - n.v[2], 2))"
   ]
  },
  {
   "cell_type": "code",
   "execution_count": 6,
   "metadata": {
    "collapsed": false
   },
   "outputs": [],
   "source": [
    "def winner_vec(px, som):\n",
=======
    "            temp_col =classes.Node((random.randint(0,255), random.randint(0,255), random.randint(0,255)), j, i)\n",
    "            out_map[i].append(temp_col)\n",
    "    return out_map\n",
    "\n",
    "\n",
    "# In[201]:\n",
    "\n",
    "def neighborhood(wn,cn,t,w,h,N):\n",
    "    return math.exp(-node_distance(wn,cn) * node_distance(wn,cn)/ (2 * radius(t,w,h,N) * radius(t,w,h,N)))\n",
    "\n",
    "\n",
    "# In[202]:\n",
    "\n",
    "def vec_distance(pv, n):    #pv: pixel vector (to be called with get_vector) , n: node\n",
    "    return math.sqrt(math.pow(pv[0] - n.v[0], 2) + math.pow(pv[1] - n.v[1], 2) + math.pow(pv[2] - n.v[2], 2))\n",
    "\n",
    "\n",
    "# In[203]:\n",
    "\n",
    "def winner_node(pv, som):\n",
>>>>>>> 9d694491708101858f6a95f65d76634380153873
    "    d_min = math.sqrt(195075)\n",
    "    for column in som:\n",
    "        for n in column:\n",
    "            if vec_distance(pv, n) < d_min:\n",
    "                winner = n\n",
<<<<<<< HEAD
    "                d_min = vec_distance(px, n)\n",
    "    return winner"
   ]
  },
  {
   "cell_type": "code",
   "execution_count": 7,
   "metadata": {
    "collapsed": true
   },
   "outputs": [],
   "source": [
    "def node_distance(n0, n1):\n",
    "    return math.sqrt(math.pow(n0.x - n1.x, 2) + math.pow(n0.y - n1.y, 2))"
   ]
  },
  {
   "cell_type": "code",
   "execution_count": 8,
   "metadata": {
    "collapsed": false
   },
   "outputs": [],
   "source": [
    "def update_node(pv, n):\n",
    "    n = n.v + a(t) * neighborhood() * (pv - n.v)"
   ]
  },
  {
   "cell_type": "code",
   "execution_count": 9,
   "metadata": {
    "collapsed": false
   },
   "outputs": [],
   "source": [
    "def update_som(pv):\n",
    "    for column in som:\n",
    "        for n in column:\n",
    "            update_node(pv, n)"
   ]
  },
  {
   "cell_type": "code",
   "execution_count": 10,
   "metadata": {
    "collapsed": true
   },
   "outputs": [],
   "source": [
    "def radius(t):\n",
    "    return r0 * math.exp(-t / (N / math.log(r0) ))"
=======
    "                d_min = vec_distance(pv, n)\n",
    "    return winner\n",
    "\n",
    "\n",
    "# In[204]:\n",
    "\n",
    "def node_distance(n0, n1):\n",
    "    return math.sqrt(math.pow(n0.x - n1.x, 2) + math.pow(n0.y - n1.y, 2))\n",
    "\n",
    "\n",
    "# In[205]:\n",
    "\n",
    "def update_node(pv,wn,cn,t,w,h,N):\n",
    "    _a = a(t,N)\n",
    "    _n = neighborhood(wn,cn,t,w,h,N)\n",
    "    v = ()\n",
    "    for i in xrange(len(pv)):\n",
    "        new_dim = cn.get_v()[i] + _a * _n * (pv[i]-cn.get_v()[i])\n",
    "        v = v + (new_dim,)\n",
    "    cn.set_v(v)\n",
    "\n",
    "\n",
    "# In[206]:\n",
    "\n",
    "def update_som(som,pv,wn,t,w,h,N):\n",
    "    for column in som:\n",
    "        for cn in column:\n",
    "            update_node(pv, wn,cn,t,w,h,N)\n",
    "\n",
    "\n",
    "# In[207]:\n",
    "\n",
    "def radius(t,w,h,N):\n",
    "    return (w+h)/4 * math.exp(-t / (N / math.log( (w+h)/4) ))\n",
    "\n",
    "\n",
    "# In[208]:\n",
    "\n",
    "def a(t,N):\n",
    "    return 0.1 * math.exp(-t / N)\n",
    "\n",
    "\n",
    "# In[209]:\n",
    "\n",
    "s_o_m = initialize_som(5,6)\n",
    "\n",
    "\n",
    "# In[210]:\n",
    "\n",
    "print s_o_m\n",
    "\n",
    "\n",
    "# In[211]:\n",
    "\n",
    "image = classes.Dataset(\"cat.jpeg\")\n",
    "\n",
    "\n",
    "# In[212]:\n",
    "\n",
    "def train (data,som,w,h):\n",
    "    N = 100;\n",
    "    for t in xrange(N):\n",
    "        for i in xrange(len(data)):\n",
    "            pixel_v = data.get_vector(i)\n",
    "            win_n = winner_node(pixel_v,som)\n",
    "            update_som(som,pixel_v,win_n,t,w,h,N)\n",
    "        \n",
    "\n",
    "\n",
    "# In[142]:\n",
    "\n",
    "train(image,s_o_m,5,6)\n",
    "\n",
    "\n",
    "# In[ ]:"
>>>>>>> 9d694491708101858f6a95f65d76634380153873
   ]
  },
  {
   "cell_type": "code",
   "execution_count": 11,
   "metadata": {
    "collapsed": true
   },
   "outputs": [],
<<<<<<< HEAD
   "source": [
    "def a(t):\n",
    "    return a0 * math.exp(-t / N)"
   ]
  },
  {
   "cell_type": "code",
   "execution_count": null,
   "metadata": {
    "collapsed": true
   },
   "outputs": [],
=======
>>>>>>> 9d694491708101858f6a95f65d76634380153873
   "source": []
  }
 ],
 "metadata": {
  "kernelspec": {
   "display_name": "Python 2",
   "language": "python",
   "name": "python2"
  },
  "language_info": {
   "codemirror_mode": {
    "name": "ipython",
    "version": 2
   },
   "file_extension": ".py",
   "mimetype": "text/x-python",
   "name": "python",
   "nbconvert_exporter": "python",
   "pygments_lexer": "ipython2",
   "version": "2.7.6"
  }
 },
 "nbformat": 4,
 "nbformat_minor": 0
}
